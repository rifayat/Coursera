{
 "cells": [
  {
   "cell_type": "markdown",
   "id": "6cc00f8f-2254-40df-be19-828a1f495b3f",
   "metadata": {},
   "source": [
    "# My Jupyter Notebook on IBM Watson Studio"
   ]
  },
  {
   "cell_type": "markdown",
   "id": "4825f706-61ac-4c6e-ac86-77921337682a",
   "metadata": {},
   "source": [
    "**Rifayat Showrav**\n",
    "\n",
    "Role: Data Scientist"
   ]
  },
  {
   "cell_type": "markdown",
   "id": "d0361d2a-4495-46a5-b145-eda4e417aaf4",
   "metadata": {},
   "source": [
    "*I enjoy data science because I enjoy working with messy data.*"
   ]
  },
  {
   "cell_type": "markdown",
   "id": "392eb77b-7ff3-452d-9ef1-bac83b7939f9",
   "metadata": {},
   "source": [
    "### The below code adds two plus two"
   ]
  },
  {
   "cell_type": "code",
   "execution_count": 4,
   "id": "1b4851b8-2fa3-499e-9ce3-82cdac4f3da4",
   "metadata": {},
   "outputs": [
    {
     "data": {
      "text/plain": [
       "4"
      ]
     },
     "execution_count": 4,
     "metadata": {},
     "output_type": "execute_result"
    }
   ],
   "source": [
    "2+2"
   ]
  },
  {
   "cell_type": "markdown",
   "id": "2ca7974f-7b0c-494c-9ca1-95f3c1fd1bbd",
   "metadata": {},
   "source": [
    "| Column1 | Column 2|\n",
    "| ------- | ------- |\n",
    "| Data1   | Data 2  |\n",
    "\n",
    "\n",
    "\n",
    "\n",
    "Horizontal\n",
    "***\n",
    "Break\n",
    "\n",
    "\n",
    "+ One\n",
    "+ Two\n",
    "+ Three\n"
   ]
  }
 ],
 "metadata": {
  "kernelspec": {
   "display_name": "Python",
   "language": "python",
   "name": "conda-env-python-py"
  },
  "language_info": {
   "codemirror_mode": {
    "name": "ipython",
    "version": 3
   },
   "file_extension": ".py",
   "mimetype": "text/x-python",
   "name": "python",
   "nbconvert_exporter": "python",
   "pygments_lexer": "ipython3",
   "version": "3.7.12"
  }
 },
 "nbformat": 4,
 "nbformat_minor": 5
}
